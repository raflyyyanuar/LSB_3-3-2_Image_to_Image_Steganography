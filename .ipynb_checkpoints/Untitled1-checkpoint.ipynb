{
 "cells": [
  {
   "cell_type": "code",
   "execution_count": 9,
   "id": "806a70af",
   "metadata": {},
   "outputs": [
    {
     "ename": "AttributeError",
     "evalue": "'str' object has no attribute 'size'",
     "output_type": "error",
     "traceback": [
      "\u001b[1;31m---------------------------------------------------------------------------\u001b[0m",
      "\u001b[1;31mAttributeError\u001b[0m                            Traceback (most recent call last)",
      "Cell \u001b[1;32mIn[9], line 66\u001b[0m\n\u001b[0;32m     63\u001b[0m stego_im_path \u001b[38;5;241m=\u001b[39m \u001b[38;5;124m'\u001b[39m\u001b[38;5;124membedded.png\u001b[39m\u001b[38;5;124m'\u001b[39m\n\u001b[0;32m     65\u001b[0m \u001b[38;5;66;03m# Embed the message in the image\u001b[39;00m\n\u001b[1;32m---> 66\u001b[0m \u001b[43membed_msg_to_im\u001b[49m\u001b[43m(\u001b[49m\u001b[43mm\u001b[49m\u001b[43m,\u001b[49m\u001b[43m \u001b[49m\u001b[43mim_path\u001b[49m\u001b[43m,\u001b[49m\u001b[43m \u001b[49m\u001b[43mloc\u001b[49m\u001b[43m,\u001b[49m\u001b[43m \u001b[49m\u001b[43mstego_key\u001b[49m\u001b[43m)\u001b[49m\n\u001b[0;32m     68\u001b[0m \u001b[38;5;66;03m# Retrieve the hidden message from the stego image\u001b[39;00m\n\u001b[0;32m     69\u001b[0m msg \u001b[38;5;241m=\u001b[39m retrieve_msg_from_im(stego_im_path, loc, stego_key)\n",
      "Cell \u001b[1;32mIn[9], line 19\u001b[0m, in \u001b[0;36membed_msg_to_im\u001b[1;34m(msg, cover_im, loc_arr, stego_key)\u001b[0m\n\u001b[0;32m     16\u001b[0m msg_hash \u001b[38;5;241m=\u001b[39m hashlib\u001b[38;5;241m.\u001b[39msha256(stego_key\u001b[38;5;241m.\u001b[39mencode())\u001b[38;5;241m.\u001b[39mhexdigest()\n\u001b[0;32m     17\u001b[0m msg_bin \u001b[38;5;241m=\u001b[39m np\u001b[38;5;241m.\u001b[39mconcatenate((str_to_bin(msg), str_to_bin(msg_hash)))\n\u001b[1;32m---> 19\u001b[0m w, h \u001b[38;5;241m=\u001b[39m \u001b[43mcover_im\u001b[49m\u001b[38;5;241;43m.\u001b[39;49m\u001b[43msize\u001b[49m\n\u001b[0;32m     21\u001b[0m \u001b[38;5;66;03m# use numpy indexing to modify pixel values\u001b[39;00m\n\u001b[0;32m     22\u001b[0m cover_pix[loc_arr \u001b[38;5;241m/\u001b[39m\u001b[38;5;241m/\u001b[39m w, loc_arr \u001b[38;5;241m%\u001b[39m h] \u001b[38;5;241m&\u001b[39m\u001b[38;5;241m=\u001b[39m \u001b[38;5;241m~\u001b[39m\u001b[38;5;241m1\u001b[39m\n",
      "\u001b[1;31mAttributeError\u001b[0m: 'str' object has no attribute 'size'"
     ]
    }
   ],
   "source": [
    "# %%time\n",
    "from PIL import Image\n",
    "import hashlib\n",
    "import numpy as np\n",
    "\n",
    "def str_to_bin(string):\n",
    "    # convert entire string to binary at once using numpy\n",
    "    return np.unpackbits(np.array(list(string.encode('utf-8')), dtype=np.uint8))\n",
    "\n",
    "def logistic_map(r, x):\n",
    "    return r * x * (1 - x)\n",
    "\n",
    "def embed_msg_to_im(msg, cover_im, loc_arr, stego_key):    \n",
    "    cover_pix = np.array(cover_im)\n",
    "\n",
    "    msg_hash = hashlib.sha256(stego_key.encode()).hexdigest()\n",
    "    msg_bin = np.concatenate((str_to_bin(msg), str_to_bin(msg_hash)))\n",
    "\n",
    "    w, h = cover_im.size\n",
    "\n",
    "    # use numpy indexing to modify pixel values\n",
    "    cover_pix[loc_arr // w, loc_arr % h] &= ~1\n",
    "    cover_pix[loc_arr // w, loc_arr % h] |= msg_bin.reshape(-1, 1)\n",
    "\n",
    "    return Image.fromarray(cover_pix)\n",
    "\n",
    "def retrieve_msg_from_im(stego_im, loc_arr, stego_key): \n",
    "    stego_pix = np.array(stego_im)\n",
    "\n",
    "    w, h = stego_im.size\n",
    "\n",
    "    bits = \"\"\n",
    "    stego_key_hash = hashlib.sha256(stego_key.encode()).hexdigest()\n",
    "    stego_key_bin = str_to_bin(stego_key_hash)\n",
    "\n",
    "    # use a generator to yield one character at a time\n",
    "    for i in loc_arr:\n",
    "        pos_x, pos_y = i // w, i % h\n",
    "        bit = stego_pix[pos_x, pos_y] & 1\n",
    "        bits += str(bit)\n",
    "        if len(bits) >= len(stego_key_bin) and bits[-len(stego_key_bin):] == stego_key_bin:\n",
    "            # yield one character at a time\n",
    "            for j in range(0, len(bits)-len(stego_key_bin), 8):\n",
    "                yield chr(int(bits[j:j+8], 2))\n",
    "            return\n",
    "    yield \"Error: did not find any message. Wrong stego key?\"\n",
    "\n",
    "# Logistic Map Generation\n",
    "r = 3.99\n",
    "x0 = 0.5\n",
    "thres = 0.3\n",
    "x = [x0]\n",
    "loc = []\n",
    "\n",
    "for i in range(10000):\n",
    "    x.append\n",
    "\n",
    "\n",
    "# Set parameters\n",
    "m = 'This is a secret message'\n",
    "stego_key = 'my_secret_key'\n",
    "im_path = 'original.png'\n",
    "stego_im_path = 'embedded.png'\n",
    "\n",
    "# Embed the message in the image\n",
    "embed_msg_to_im(m, im_path, loc, stego_key)\n",
    "\n",
    "# Retrieve the hidden message from the stego image\n",
    "msg = retrieve_msg_from_im(stego_im_path, loc, stego_key)\n",
    "\n",
    "# Print the message\n",
    "print(msg)"
   ]
  }
 ],
 "metadata": {
  "kernelspec": {
   "display_name": "Python 3 (ipykernel)",
   "language": "python",
   "name": "python3"
  },
  "language_info": {
   "codemirror_mode": {
    "name": "ipython",
    "version": 3
   },
   "file_extension": ".py",
   "mimetype": "text/x-python",
   "name": "python",
   "nbconvert_exporter": "python",
   "pygments_lexer": "ipython3",
   "version": "3.11.2"
  }
 },
 "nbformat": 4,
 "nbformat_minor": 5
}
