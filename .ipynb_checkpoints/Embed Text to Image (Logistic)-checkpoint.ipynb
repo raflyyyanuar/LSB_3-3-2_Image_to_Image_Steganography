{
 "cells": [
  {
   "cell_type": "code",
   "execution_count": 1,
   "id": "7b93db4a",
   "metadata": {},
   "outputs": [],
   "source": [
    "import zlib # For string compression\n",
    "from PIL import Image"
   ]
  },
  {
   "cell_type": "code",
   "execution_count": 8,
   "id": "12bfd1a7",
   "metadata": {},
   "outputs": [],
   "source": [
    "def logistic_map(r, x):\n",
    "    return r * x * (1 - x)\n",
    "\n",
    "def embed_msg_to_im(msg, im_path, loc_arr):\n",
    "    # Convert image to grayscale\n",
    "    cover_im = Image.open(im_path).convert('L')\n",
    "    cover_im.save(\"original.png\")\n",
    "    # Get image pixel data\n",
    "    cover_pix = cover_im.load()\n",
    "    \n",
    "    # Message compression\n",
    "    enc_m = zlib.compress(msg.encode())\n",
    "    print(enc_m)\n",
    "    bit_m = ''.join(format(byte, '08b') for byte in enc_m)\n",
    "    print(bit_m)\n",
    "    bit_m += \"01111000\"\n",
    "    print(bit_m)\n",
    "    \n",
    "    # Width and Height of the image\n",
    "    w = cover_im.size[0]\n",
    "    h = cover_im.size[1]\n",
    "\n",
    "    for i, bit in enumerate(bit_m):\n",
    "        pos_x = loc_arr[i] // w\n",
    "        pos_y = loc_arr[i] % h\n",
    "        cover_pix[pos_x, pos_y]  = cover_pix[pos_x, pos_y] & ~1 | int(bit)\n",
    "    cover_im.save(\"embedded.png\")\n",
    "\n",
    "def retrieve_msg_from_im(im_path, loc_arr):\n",
    "    # Convert image to grayscale\n",
    "    stego_im = Image.open(im_path).convert('L')\n",
    "    # Get image pixel data\n",
    "    stego_pix = stego_im.load()\n",
    "    \n",
    "    # Width and Height of the image\n",
    "    w = stego_im.size[0]\n",
    "    h = stego_im.size[1]\n",
    "\n",
    "    bit_m = []\n",
    "    bit_i = 0\n",
    "    \n",
    "    for i in loc_arr:\n",
    "        pos_x = i // w\n",
    "        pos_y = i % h\n",
    "        \n",
    "        bit = (stego_pix[pos_x, pos_y] & 1)\n",
    "        bit_m.append(bit)\n",
    "        bit_i += 1\n",
    "        if bit_i >= 8 and bit_m[-8:] == [1, 0, 1, 0, 0, 1, 1, 0]:\n",
    "            bit_m = bit_m[:-8]\n",
    "            bit_m = ''.join(map(str, bit_m))\n",
    "            enc_m = bytes(int(''.join(bit_m[i:i+8]), 2) for i in range(0, len(bit_m), 8))\n",
    "            enc_m = \"x\\x9c\".encode() + enc_m\n",
    "            print(enc_m)\n",
    "            msg = zlib.decompress(enc_m)\n",
    "            return msg.decode('utf-8')\n",
    "    print(bit_m[-8:], bit_i)\n",
    "    return \"Didn't find any message!\""
   ]
  },
  {
   "cell_type": "code",
   "execution_count": 3,
   "id": "285ad8d9",
   "metadata": {},
   "outputs": [],
   "source": [
    "# Logistic Map Generation\n",
    "\n",
    "# Control parameter\n",
    "r = 3.99\n",
    "# Initial condition\n",
    "x0 = 0.5\n",
    "# Threshold\n",
    "thres = 0.6\n",
    "# Logistic map\n",
    "x = [x0]\n",
    "# Possible locations based on threshold\n",
    "loc = []\n",
    "\n",
    "for i in range(10000):\n",
    "    x.append(logistic_map(r, x[i]))\n",
    "    if x[i] < thres:\n",
    "        loc.append(i)"
   ]
  },
  {
   "cell_type": "code",
   "execution_count": 4,
   "id": "aa478bb2",
   "metadata": {},
   "outputs": [],
   "source": [
    "# Message Configuration\n",
    "\n",
    "m = \"Sve generated 3 sand compressed thes8) of 0s and 1s andswing:\"\n",
    "\n",
    "# Image Configuration\n",
    "im_path = \"lenna.png\""
   ]
  },
  {
   "cell_type": "code",
   "execution_count": 9,
   "id": "3e46b5c4",
   "metadata": {},
   "outputs": [
    {
     "name": "stdout",
     "output_type": "stream",
     "text": [
      "b'x\\x9c\\x0b.KUHO\\xcdK-J,IMQ0V(N\\xccKQH\\xce\\xcf-(J-.\\x06\\x8a\\x94d\\xa4\\x16[h*\\xe4\\xa7)\\x18\\x14+\\x80\\xe4\\x0c\\xc1Tqyf^\\xba\\x15\\x00\\x98\\x9b\\x15%'\n",
      "0111100010011100000010110010111001001011010101010100100001001111110011010100101100101101010010100010110001001001010011010101000100110000010101100010100001001110110011000100101101010001010010001100111011001111001011010010100001001010001011010010111000000110100010101001010001100100101001000001011001011011011010000010101011100100101001110010100100011000000101000010101110000000111001000000110011000001010101000111000101111001011001100101111010111010000101010000000010011000100110110001010100100101\n",
      "011110001001110000001011001011100100101101010101010010000100111111001101010010110010110101001010001011000100100101001101010100010011000001010110001010000100111011001100010010110101000101001000110011101100111100101101001010000100101000101101001011100000011010001010100101000110010010100100000101100101101101101000001010101110010010100111001010010001100000010100001010111000000011100100000011001100000101010100011100010111100101100110010111101011101000010101000000001001100010011011000101010010010101111000\n",
      "b'\\x07$\\xc0\\xf0\\x04'\n"
     ]
    },
    {
     "ename": "error",
     "evalue": "Error -3 while decompressing data: incorrect header check",
     "output_type": "error",
     "traceback": [
      "\u001b[1;31m---------------------------------------------------------------------------\u001b[0m",
      "\u001b[1;31merror\u001b[0m                                     Traceback (most recent call last)",
      "Cell \u001b[1;32mIn[9], line 2\u001b[0m\n\u001b[0;32m      1\u001b[0m embed_msg_to_im(m, im_path, loc)\n\u001b[1;32m----> 2\u001b[0m \u001b[43mretrieve_msg_from_im\u001b[49m\u001b[43m(\u001b[49m\u001b[43mim_path\u001b[49m\u001b[43m,\u001b[49m\u001b[43m \u001b[49m\u001b[43mloc\u001b[49m\u001b[43m)\u001b[49m\n",
      "Cell \u001b[1;32mIn[8], line 55\u001b[0m, in \u001b[0;36mretrieve_msg_from_im\u001b[1;34m(im_path, loc_arr)\u001b[0m\n\u001b[0;32m     53\u001b[0m         \u001b[38;5;66;03m# enc_m = \"x\\x9c\".encode() + enc_m\u001b[39;00m\n\u001b[0;32m     54\u001b[0m         \u001b[38;5;28mprint\u001b[39m(enc_m)\n\u001b[1;32m---> 55\u001b[0m         msg \u001b[38;5;241m=\u001b[39m zlib\u001b[38;5;241m.\u001b[39mdecompress(enc_m)\n\u001b[0;32m     56\u001b[0m         \u001b[38;5;28;01mreturn\u001b[39;00m msg\u001b[38;5;241m.\u001b[39mdecode(\u001b[38;5;124m'\u001b[39m\u001b[38;5;124mutf-8\u001b[39m\u001b[38;5;124m'\u001b[39m)\n\u001b[0;32m     57\u001b[0m \u001b[38;5;28mprint\u001b[39m(bit_m[\u001b[38;5;241m-\u001b[39m\u001b[38;5;241m8\u001b[39m:], bit_i)\n",
      "\u001b[1;31merror\u001b[0m: Error -3 while decompressing data: incorrect header check"
     ]
    }
   ],
   "source": [
    "embed_msg_to_im(m, im_path, loc)\n",
    "retrieve_msg_from_im(im_path, loc)"
   ]
  },
  {
   "cell_type": "code",
   "execution_count": null,
   "id": "10664586",
   "metadata": {},
   "outputs": [],
   "source": [
    "msg"
   ]
  }
 ],
 "metadata": {
  "kernelspec": {
   "display_name": "Python 3 (ipykernel)",
   "language": "python",
   "name": "python3"
  },
  "language_info": {
   "codemirror_mode": {
    "name": "ipython",
    "version": 3
   },
   "file_extension": ".py",
   "mimetype": "text/x-python",
   "name": "python",
   "nbconvert_exporter": "python",
   "pygments_lexer": "ipython3",
   "version": "3.11.2"
  }
 },
 "nbformat": 4,
 "nbformat_minor": 5
}
